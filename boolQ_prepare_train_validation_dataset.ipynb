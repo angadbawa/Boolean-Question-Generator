{
 "cells": [
  {
   "cell_type": "code",
   "execution_count": 1,
   "metadata": {},
   "outputs": [],
   "source": [
    "filename1 = \"dev.jsonl\"\n",
    "filename2 = \"train.jsonl\"\n"
   ]
  },
  {
   "cell_type": "code",
   "execution_count": 2,
   "metadata": {},
   "outputs": [],
   "source": [
    "with open(filename1,'r') as f1:\n",
    "    file1_list1 = list(f1)\n",
    "    \n",
    "with open(filename2,'r') as f2:\n",
    "    file1_list2 = list(f2)\n",
    "    "
   ]
  },
  {
   "cell_type": "code",
   "execution_count": 3,
   "metadata": {},
   "outputs": [],
   "source": [
    "boolq_jsonl = file1_list1 + file1_list2"
   ]
  },
  {
   "cell_type": "code",
   "execution_count": 4,
   "metadata": {},
   "outputs": [
    {
     "name": "stdout",
     "output_type": "stream",
     "text": [
      "12697\n"
     ]
    }
   ],
   "source": [
    "print (len(boolq_jsonl))"
   ]
  },
  {
   "cell_type": "code",
   "execution_count": 5,
   "metadata": {},
   "outputs": [
    {
     "name": "stdout",
     "output_type": "stream",
     "text": [
      "Empty DataFrame\n",
      "Columns: [passage, answer, title, question]\n",
      "Index: []\n"
     ]
    }
   ],
   "source": [
    "import pandas as pd\n",
    "df = pd.DataFrame( columns = ['passage', 'answer','title','question'])\n",
    "print (df)"
   ]
  },
  {
   "cell_type": "code",
   "execution_count": 6,
   "metadata": {},
   "outputs": [
    {
     "name": "stdout",
     "output_type": "stream",
     "text": [
      " count  6457\n",
      " Index  12696\n"
     ]
    }
   ],
   "source": [
    "import json\n",
    "import re\n",
    "\n",
    "def return_matching_text(pattern,text):\n",
    "    match = re.search(pattern, text,re.IGNORECASE)\n",
    "    if match is not None:\n",
    "        s = match.start()\n",
    "        e = match.end()\n",
    "        return text[s:e]\n",
    "    else:\n",
    "        return pattern\n",
    "    \n",
    "count = 0\n",
    "index_ = 0\n",
    "for index,val in enumerate(boolq_jsonl):\n",
    "    val = json.loads(val)\n",
    "    try:\n",
    "        val['title'] = return_matching_text(val['title'],val['passage'])\n",
    "    except:\n",
    "        continue\n",
    "    if val['title'] not in val['passage']:\n",
    "        count = count + 1\n",
    "    val['question'] = val['question'].strip().capitalize() + \"?\"\n",
    "    val['answer'] = str(val['answer']).strip().capitalize()\n",
    "    df.loc[index_]= [val['passage']] + [val['answer']] + [val['title']] + [val['question']]\n",
    "    index_ = index_+1\n",
    "  \n",
    "print (\" count \",count)\n",
    "print (\" Index \",index_)"
   ]
  },
  {
   "cell_type": "code",
   "execution_count": 7,
   "metadata": {},
   "outputs": [
    {
     "name": "stdout",
     "output_type": "stream",
     "text": [
      "7906\n",
      "4790\n"
     ]
    }
   ],
   "source": [
    "\n",
    "df_true_rows = df[(df['answer']==\"True\")]\n",
    "df_false_rows = df[(df['answer']==\"False\")]\n",
    "\n",
    "print(len(df_true_rows))\n",
    "print(len(df_false_rows))"
   ]
  },
  {
   "cell_type": "code",
   "execution_count": 8,
   "metadata": {},
   "outputs": [
    {
     "data": {
      "text/html": [
       "<table border=\"1\" class=\"dataframe\">\n",
       "  <thead>\n",
       "    <tr style=\"text-align: right;\">\n",
       "      <th></th>\n",
       "      <th>passage</th>\n",
       "      <th>answer</th>\n",
       "      <th>title</th>\n",
       "      <th>question</th>\n",
       "    </tr>\n",
       "  </thead>\n",
       "  <tbody>\n",
       "    <tr>\n",
       "      <th>9653</th>\n",
       "      <td>In most of the Western world, such as Europe, Australia, New Zealand, Canada and the United States, it is very common to see people holding hands, hugging and sometimes kissing in public. It is not usually socially acceptable to be overly explicit, such as engaging in sexual activities. Kissing is more commonly seen in adult night-life, such as nightclubs.</td>\n",
       "      <td>False</td>\n",
       "      <td>Public display of affection</td>\n",
       "      <td>Is it illegal to kiss in public uk?</td>\n",
       "    </tr>\n",
       "  </tbody>\n",
       "</table>"
      ],
      "text/plain": [
       "<IPython.core.display.HTML object>"
      ]
     },
     "metadata": {},
     "output_type": "display_data"
    }
   ],
   "source": [
    "pd.options.display.max_colwidth = 800\n",
    "\n",
    "from IPython.display import display, HTML\n",
    "display(HTML(df.sample().to_html()))"
   ]
  },
  {
   "cell_type": "code",
   "execution_count": 9,
   "metadata": {},
   "outputs": [
    {
     "name": "stdout",
     "output_type": "stream",
     "text": [
      "(12696, 4)\n",
      "(12683, 4)\n",
      "(13, 4)\n"
     ]
    }
   ],
   "source": [
    "from sklearn.model_selection import train_test_split\n",
    "df_total = pd.concat([df_true_rows, df_false_rows])\n",
    "print (df_total.shape)\n",
    "train, test = train_test_split(df_total, test_size=0.001)\n",
    "print (train.shape)\n",
    "print (test.shape)\n"
   ]
  },
  {
   "cell_type": "code",
   "execution_count": 10,
   "metadata": {},
   "outputs": [],
   "source": [
    "train.to_csv('boolq_train.csv', index = False)\n",
    "test.to_csv('boolq_val.csv', index = False)"
   ]
  },
  {
   "cell_type": "code",
   "execution_count": null,
   "metadata": {},
   "outputs": [],
   "source": []
  }
 ],
 "metadata": {
  "kernelspec": {
   "display_name": "conda_pytorch_p36",
   "language": "python",
   "name": "conda_pytorch_p36"
  },
  "language_info": {
   "codemirror_mode": {
    "name": "ipython",
    "version": 3
   },
   "file_extension": ".py",
   "mimetype": "text/x-python",
   "name": "python",
   "nbconvert_exporter": "python",
   "pygments_lexer": "ipython3",
   "version": "3.6.5"
  }
 },
 "nbformat": 4,
 "nbformat_minor": 4
}
